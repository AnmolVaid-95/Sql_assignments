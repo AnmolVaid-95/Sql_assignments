{
 "cells": [
  {
   "cell_type": "markdown",
   "id": "b7c24493",
   "metadata": {},
   "source": [
    "Q-15. Write an SQL query to fetch intersecting records of two tables"
   ]
  },
  {
   "cell_type": "markdown",
   "id": "f552ed4c",
   "metadata": {},
   "source": [
    "(SELECT * FROM Worker)\n",
    "INTERSECT\n",
    "(SELECT * FROM WorkerClone);"
   ]
  },
  {
   "cell_type": "code",
   "execution_count": null,
   "id": "c4c926e3",
   "metadata": {},
   "outputs": [],
   "source": []
  },
  {
   "cell_type": "markdown",
   "id": "0d260c02",
   "metadata": {},
   "source": [
    "Q-16. Write an SQL query to show records from one table that another table does not have."
   ]
  },
  {
   "cell_type": "markdown",
   "id": "3d44bc9e",
   "metadata": {},
   "source": [
    "SELECT * FROM Worker\n",
    "MINUS\n",
    "SELECT * FROM Title;"
   ]
  },
  {
   "cell_type": "code",
   "execution_count": null,
   "id": "0b0d12a7",
   "metadata": {},
   "outputs": [],
   "source": []
  }
 ],
 "metadata": {
  "kernelspec": {
   "display_name": "Python 3",
   "language": "python",
   "name": "python3"
  },
  "language_info": {
   "codemirror_mode": {
    "name": "ipython",
    "version": 3
   },
   "file_extension": ".py",
   "mimetype": "text/x-python",
   "name": "python",
   "nbconvert_exporter": "python",
   "pygments_lexer": "ipython3",
   "version": "3.8.8"
  }
 },
 "nbformat": 4,
 "nbformat_minor": 5
}
