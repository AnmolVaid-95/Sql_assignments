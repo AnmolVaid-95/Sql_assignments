{
 "cells": [
  {
   "cell_type": "markdown",
   "id": "661ee30b",
   "metadata": {},
   "source": [
    "\n",
    "\n",
    "\n",
    "\n",
    "\n",
    "\n"
   ]
  },
  {
   "cell_type": "markdown",
   "id": "7fecc90d",
   "metadata": {},
   "source": [
    "Q-1. Write an SQL query to print the first three characters of  FIRST_NAME from Worker table."
   ]
  },
  {
   "cell_type": "markdown",
   "id": "772ab749",
   "metadata": {},
   "source": [
    "SELECT LEFT(first_name, 3) FROM worker;\n",
    "SELECT SUBSTRING(first_name, 1, 3) FROM worker;"
   ]
  },
  {
   "cell_type": "code",
   "execution_count": null,
   "id": "ff3e5691",
   "metadata": {},
   "outputs": [],
   "source": []
  },
  {
   "cell_type": "markdown",
   "id": "9392c509",
   "metadata": {},
   "source": [
    "Q-2. Write an SQL query to find the position of the alphabet (‘a’) in the first name column ‘Amitabh’ from Worker table."
   ]
  },
  {
   "cell_type": "markdown",
   "id": "a6f917d9",
   "metadata": {},
   "source": [
    "SELECT POSITION(\"A\" IN first_name) FROM worker WHERE first_name = \"Amitabh\";\n",
    "SELECT INSTR(first_name, \"A\") FROM worker WHERE first_name = \"Amitabh\""
   ]
  },
  {
   "cell_type": "code",
   "execution_count": null,
   "id": "5aa58913",
   "metadata": {},
   "outputs": [],
   "source": []
  },
  {
   "cell_type": "markdown",
   "id": "778d6993",
   "metadata": {},
   "source": [
    "Q-3. Write an SQL query to print the name of employees having the highest salary in each department.\n"
   ]
  },
  {
   "cell_type": "markdown",
   "id": "ebe43e16",
   "metadata": {},
   "source": [
    "SELECT t.DEPARTMENT,t.FIRST_NAME,t.Salary from(SELECT max(Salary) as TotalSalary,DEPARTMENT from Worker group by DEPARTMENT) as TempNew \n",
    "Inner Join Worker t on TempNew.DEPARTMENT=t.DEPARTMENT \n",
    " and TempNew.TotalSalary=t.Salary;"
   ]
  },
  {
   "cell_type": "code",
   "execution_count": null,
   "id": "dd9f9c09",
   "metadata": {},
   "outputs": [],
   "source": []
  },
  {
   "cell_type": "code",
   "execution_count": null,
   "id": "b5b2b00b",
   "metadata": {},
   "outputs": [],
   "source": []
  }
 ],
 "metadata": {
  "kernelspec": {
   "display_name": "Python 3",
   "language": "python",
   "name": "python3"
  },
  "language_info": {
   "codemirror_mode": {
    "name": "ipython",
    "version": 3
   },
   "file_extension": ".py",
   "mimetype": "text/x-python",
   "name": "python",
   "nbconvert_exporter": "python",
   "pygments_lexer": "ipython3",
   "version": "3.8.8"
  }
 },
 "nbformat": 4,
 "nbformat_minor": 5
}
