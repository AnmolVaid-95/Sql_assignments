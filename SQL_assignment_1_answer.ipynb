{
 "cells": [
  {
   "cell_type": "markdown",
   "id": "22f04cfd",
   "metadata": {},
   "source": [
    "Q-1. Write an SQL query to fetch “FIRST_NAME” from Worker table using the alias name as <WORKER_NAME>."
   ]
  },
  {
   "cell_type": "markdown",
   "id": "29589720",
   "metadata": {},
   "source": [
    "select first_name as worker_name from worker;"
   ]
  },
  {
   "cell_type": "code",
   "execution_count": null,
   "id": "05ff63fd",
   "metadata": {},
   "outputs": [],
   "source": []
  },
  {
   "cell_type": "markdown",
   "id": "391ad1da",
   "metadata": {},
   "source": [
    "Q-2. Write an SQL query to fetch unique values of DEPARTMENT from Worker table."
   ]
  },
  {
   "cell_type": "markdown",
   "id": "49d0f8b7",
   "metadata": {},
   "source": [
    "SELECT distinct department FROM worker;"
   ]
  },
  {
   "cell_type": "code",
   "execution_count": null,
   "id": "cd077d4f",
   "metadata": {},
   "outputs": [],
   "source": []
  },
  {
   "cell_type": "markdown",
   "id": "852e77b6",
   "metadata": {},
   "source": [
    "Q-3. Write an SQL query to show the last 5 record from a table."
   ]
  },
  {
   "cell_type": "markdown",
   "id": "bbcfc4ce",
   "metadata": {},
   "source": [
    "SELECT * FROM Worker WHERE WORKER_ID <=5\n",
    "UNION\n",
    "SELECT * FROM (SELECT * FROM Worker W order by W.WORKER_ID DESC) AS W1 WHERE W1.WORKER_ID <=5;"
   ]
  },
  {
   "cell_type": "code",
   "execution_count": null,
   "id": "6764bf3d",
   "metadata": {},
   "outputs": [],
   "source": []
  }
 ],
 "metadata": {
  "kernelspec": {
   "display_name": "Python 3",
   "language": "python",
   "name": "python3"
  },
  "language_info": {
   "codemirror_mode": {
    "name": "ipython",
    "version": 3
   },
   "file_extension": ".py",
   "mimetype": "text/x-python",
   "name": "python",
   "nbconvert_exporter": "python",
   "pygments_lexer": "ipython3",
   "version": "3.8.8"
  }
 },
 "nbformat": 4,
 "nbformat_minor": 5
}
