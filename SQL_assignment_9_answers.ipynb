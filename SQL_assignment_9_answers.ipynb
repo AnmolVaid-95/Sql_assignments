{
 "cells": [
  {
   "cell_type": "markdown",
   "id": "8b686bf4",
   "metadata": {},
   "source": [
    "Q-17.  Write an SQL query to show the top n (say 10) records of a table."
   ]
  },
  {
   "cell_type": "markdown",
   "id": "b1a76a37",
   "metadata": {},
   "source": [
    "SELECT * FROM Worker ORDER BY Salary DESC LIMIT 10;"
   ]
  },
  {
   "cell_type": "markdown",
   "id": "281619e3",
   "metadata": {},
   "source": [
    "SELECT TOP 10 * FROM Worker ORDER BY Salary DESC;"
   ]
  },
  {
   "cell_type": "code",
   "execution_count": null,
   "id": "97c95034",
   "metadata": {},
   "outputs": [],
   "source": []
  },
  {
   "cell_type": "markdown",
   "id": "fbdcbbda",
   "metadata": {},
   "source": [
    "Q-18. Write an SQL query to determine the nth (say n=5) highest salary from a table."
   ]
  },
  {
   "cell_type": "markdown",
   "id": "155bf4f5",
   "metadata": {},
   "source": [
    "SELECT Salary FROM Worker ORDER BY Salary DESC LIMIT n-1,1;"
   ]
  },
  {
   "cell_type": "markdown",
   "id": "9e0f22d1",
   "metadata": {},
   "source": [
    "SELECT TOP 1 Salary\n",
    "FROM (\n",
    " SELECT DISTINCT TOP n Salary\n",
    " FROM Worker \n",
    " ORDER BY Salary DESC\n",
    " )\n",
    "ORDER BY Salary ASC;"
   ]
  },
  {
   "cell_type": "code",
   "execution_count": null,
   "id": "0e6f767b",
   "metadata": {},
   "outputs": [],
   "source": []
  }
 ],
 "metadata": {
  "kernelspec": {
   "display_name": "Python 3",
   "language": "python",
   "name": "python3"
  },
  "language_info": {
   "codemirror_mode": {
    "name": "ipython",
    "version": 3
   },
   "file_extension": ".py",
   "mimetype": "text/x-python",
   "name": "python",
   "nbconvert_exporter": "python",
   "pygments_lexer": "ipython3",
   "version": "3.8.8"
  }
 },
 "nbformat": 4,
 "nbformat_minor": 5
}
